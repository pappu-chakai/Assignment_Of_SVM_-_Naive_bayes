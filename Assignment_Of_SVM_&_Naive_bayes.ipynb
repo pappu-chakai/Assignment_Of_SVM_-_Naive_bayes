{
  "nbformat": 4,
  "nbformat_minor": 0,
  "metadata": {
    "colab": {
      "provenance": []
    },
    "kernelspec": {
      "name": "python3",
      "display_name": "Python 3"
    },
    "language_info": {
      "name": "python"
    }
  },
  "cells": [
    {
      "cell_type": "markdown",
      "source": [
        "**RHEORY**"
      ],
      "metadata": {
        "id": "qtHV3_SOV2Ho"
      }
    },
    {
      "cell_type": "markdown",
      "source": [
        "Q1. What is a Support Vector Machine (SVM)?\n",
        "Ans:- SVM is a supervised learning algorithm used for classification and regression. It finds the optimal hyperplane that maximizes the margin between different classes in high-dimensional space.\n"
      ],
      "metadata": {
        "id": "1oiLsqjQV4Q7"
      }
    },
    {
      "cell_type": "markdown",
      "source": [
        "Q2. What is the difference between Hard Margin and Soft Margin SVM?\n",
        "1.\tHard Margin SVM: Requires the data to be linearly separable with no misclassification.\n",
        "2.\tSoft Margin SVM: Allows some misclassification by introducing a penalty (C parameter) to handle noisy data.\n"
      ],
      "metadata": {
        "id": "HARoS5jXV7U0"
      }
    },
    {
      "cell_type": "markdown",
      "source": [
        "Q3. What is the mathematical intuition behind SVM?\n",
        "ANS:-  SVM maximizes the margin between two classes using:\n",
        "                 wTx+b=0\n",
        "The optimization problem minimizes:\n",
        "                1/2∥w∥2\n",
        "subject to:\n",
        "        yi(wTxi+b)≥1\n"
      ],
      "metadata": {
        "id": "-6JPLZ2yWAO1"
      }
    },
    {
      "cell_type": "markdown",
      "source": [
        "Q4. What is the role of Lagrange Multipliers in SVM?\n",
        "Ans:- Lagrange Multipliers help convert the constrained optimization problem into an unconstrained problem, allowing SVM to efficiently compute the optimal hyperplane using the dual formulation.\n",
        "\n"
      ],
      "metadata": {
        "id": "PBSArqi2WD3D"
      }
    },
    {
      "cell_type": "markdown",
      "source": [
        "Q5. What are Support Vectors in SVM?\n",
        "Ans:- Support vectors are data points that lie closest to the decision boundary and directly affect the hyperplane’s position. They are critical in defining the margin.\n",
        "\n"
      ],
      "metadata": {
        "id": "Y-KwCYtmWGTA"
      }
    },
    {
      "cell_type": "markdown",
      "source": [
        "Q6. What is a Support Vector Classifier (SVC)?\n",
        "Ans:-An SVC is an SVM model used for classification tasks. It finds the best decision boundary between classes and supports linear & non-linear decision boundaries.\n"
      ],
      "metadata": {
        "id": "MAGbBhRcWMLL"
      }
    },
    {
      "cell_type": "markdown",
      "source": [
        "Q7. What is a Support Vector Regressor (SVR)?\n",
        "Ans:- An SVR is an extension of SVM used for regression problems. Instead of maximizing margin between classes, it minimizes the error within a tolerance margin (ε-insensitive loss function).\n",
        "\n"
      ],
      "metadata": {
        "id": "7PjWJWAvWOX-"
      }
    },
    {
      "cell_type": "markdown",
      "source": [
        "Q8. What is the Kernel Trick in SVM?\n",
        "Ans:- The Kernel Trick allows SVM to work in higher dimensions by transforming non-linearly separable data into a linearly separable space. It avoids explicitly computing high-dimensional feature transformations.\n"
      ],
      "metadata": {
        "id": "ak2jOYoIWQZs"
      }
    },
    {
      "cell_type": "markdown",
      "source": [
        "Q9. Compare Linear Kernel, Polynomial Kernel, and RBF Kernel?\n",
        "     1. Linear Kernel: Works best for linearly separable data.\n",
        "     2.  Polynomial Kernel: Maps input space to a higher-degree polynomial.\n",
        "     3.  RBF Kernel: Uses Gaussian function to create complex decision boundaries.\n"
      ],
      "metadata": {
        "id": "BnaA1AVAWS1k"
      }
    },
    {
      "cell_type": "markdown",
      "source": [
        "Q10. What is the effect of the C parameter in SVM?\n",
        "     Large C: Focuses on minimizing classification errors (low bias, high variance)s\n",
        "    Small C: Increases the margin, allowing some misclassification (higher bias, lower       variance).\n"
      ],
      "metadata": {
        "id": "6AvqJ8WXWaXh"
      }
    },
    {
      "cell_type": "markdown",
      "source": [
        "Q11. What is the role of the Gamma parameter in RBF Kernel SVM?\n",
        "Low Gamma: Makes the decision boundary more generalizedo\n",
        " High Gamma: Creates complex decision boundaries, making the model prone to    overfitting.\n"
      ],
      "metadata": {
        "id": "qwJb378QWfCS"
      }
    },
    {
      "cell_type": "markdown",
      "source": [
        "Q12. What is the Naïve Bayes classifier, and why is it called \"Naïve\"?\n",
        " Ans:- Naïve Bayes is a probabilistic classification algorithm based on Bayes’ Theorem. It   assumes that all features are independent, which is often an unrealistic assumption, making it \"naïve\".\n",
        "\n"
      ],
      "metadata": {
        "id": "uX51kMW6WiK5"
      }
    },
    {
      "cell_type": "markdown",
      "source": [
        "Q13. What is Bayes’ Theorem?\n",
        "Bayes' Theorem is given by:\n",
        "       P(A∣B)=P(B∣A)⋅P(A) /P(B)\n",
        "where\n",
        "P(A∣B)P(A | B) is the posterior probability\n",
        "P(B∣A)P(B | A) is the likelihood\n",
        "P(A)P(A) is the prior probability\n",
        "\n",
        "P(B)P(B) is the evidence\n"
      ],
      "metadata": {
        "id": "G5WGU9-nWkPS"
      }
    },
    {
      "cell_type": "markdown",
      "source": [
        "Q14. Explain the differences between Gaussian Naïve Bayes, Multinomial Naïve Bayes, and Bernoulli Naïve Bayes.\n",
        "    Gaussian Naïve Bayes: Used for continuous features, assumes a normal distributiono\n",
        "    Multinomial Naïve Bayes: Used for text classification (word counts in documents)s\n",
        "    Bernoulli Naïve Bayes: Used for binary features (spam detection, sentiment analysis).\n"
      ],
      "metadata": {
        "id": "C8BzSxPMWmc3"
      }
    },
    {
      "cell_type": "markdown",
      "source": [
        "Q15. When should you use Gaussian Naïve Bayes over other variants?\n",
        "Gaussian Naïve Bayes is best used when:\n",
        "  1. Features are continuous and approximately normally distributed.\n",
        "  2. Computational efficiency is critical.\n"
      ],
      "metadata": {
        "id": "_lykh21uWs_n"
      }
    },
    {
      "cell_type": "markdown",
      "source": [
        "Q16. What are the key assumptions made by Naïve Bayes?\n",
        "1.\t Feature independence (each feature contributes independently to the probability)s\n",
        "2.\tEqual importance of all features (all features contribute equally to classification)s\n",
        "3.\tFeature probability distributions follow a specific distribution (e.g., Gaussian for continuous variables).\n"
      ],
      "metadata": {
        "id": "KIe70YwYWv6n"
      }
    },
    {
      "cell_type": "markdown",
      "source": [
        "Q17. What are the advantages and disadvantages of Naïve Bayes?\n",
        " Advantages\n",
        "› Fast and computationally efficient}\n",
        "› Works well with small datasets\n",
        "› Handles high-dimensional data effectively}\n",
        "Disadvantages\n",
        "  Assumes feature independence, which is rarely true in real-world data}\n",
        "  Performs poorly when feature interactions are important.\n"
      ],
      "metadata": {
        "id": "WAmGsKJqWyiH"
      }
    },
    {
      "cell_type": "markdown",
      "source": [
        "Q18. Why is Naïve Bayes a good choice for text classification?\n",
        "› 1. Words in a document are treated as independent features (aligns with Naïve Bayes   assumptions)}\n",
        "›2.  Multinomial Naïve Bayes is optimized for word frequency-based classification\n",
        "›3.  Works well for spam filtering, sentiment analysis, and document classification.\n"
      ],
      "metadata": {
        "id": "l6AbatvpW3Pw"
      }
    },
    {
      "cell_type": "markdown",
      "source": [
        "Q19. Compare SVM and Naïve Bayes for classification tasks.\n",
        "\n",
        "Aspect\n",
        "Type\n",
        "Works Best On\n",
        "Training Time\n",
        "Handles High Dimensions\n",
        "\n",
        "SVM\n",
        "Non-probabilistic\n",
        "Complex decision boundaries\n",
        "Slower\n",
        "Yes\n",
        "\n",
        "Naïve Bayes\n",
        "Probabilistic\n",
        "Text classification, small datasets\n",
        "Faster\n",
        "Yes\n",
        "\n"
      ],
      "metadata": {
        "id": "dxIDz9NUW5iQ"
      }
    },
    {
      "cell_type": "markdown",
      "source": [
        "Q20. How does Laplace Smoothing help in Naïve Bayes?\n",
        "Ans:- Laplace Smoothing prevents zero probability issues when a class has never been observed in training data. It assigns a small probability to all possible outcomes, ensuring robust predictions.\n",
        "\n"
      ],
      "metadata": {
        "id": "wwLFUB21W8JU"
      }
    },
    {
      "cell_type": "markdown",
      "source": [
        "**PRACTICAL**"
      ],
      "metadata": {
        "id": "WJunpVYjW-e2"
      }
    },
    {
      "cell_type": "markdown",
      "source": [
        "21. Write a Python program to train an SVM Classifier on the Iris dataset and evaluate accuracy."
      ],
      "metadata": {
        "id": "ewY0ZhYbXBCs"
      }
    },
    {
      "cell_type": "code",
      "source": [
        "import pandas as pd\n",
        "from sklearn.model_selection import train_test_split\n",
        "from sklearn.svm import SVC\n",
        "from sklearn.metrics import accuracy_score\n",
        "from sklearn.datasets import load_iris\n",
        "\n",
        "# Load dataset\n",
        "data = load_iris()\n",
        "X, y = pd.DataFrame(data.data), pd.Series(data.target)\n",
        "\n",
        "# Split dataset\n",
        "X_train, X_test, y_train, y_test = train_test_split(X, y, test_size=0.2, random_state=42)\n",
        "\n",
        "# Train Support Vector Classifier\n",
        "model = SVC(kernel=\"linear\", random_state=42)\n",
        "model.fit(X_train, y_train)\n",
        "\n",
        "# Predict and evaluate accuracy\n",
        "y_pred = model.predict(X_test)\n",
        "print(\"SVM Classifier Accuracy:\", accuracy_score(y_test, y_pred))\n"
      ],
      "metadata": {
        "colab": {
          "base_uri": "https://localhost:8080/"
        },
        "id": "ma0DDilNXFyt",
        "outputId": "2dcbd8a2-3da5-455f-de1d-6b4bfbd2a244"
      },
      "execution_count": 2,
      "outputs": [
        {
          "output_type": "stream",
          "name": "stdout",
          "text": [
            "SVM Classifier Accuracy: 1.0\n"
          ]
        }
      ]
    },
    {
      "cell_type": "markdown",
      "source": [
        "22. Write a Python program to train two SVM classifiers with Linear and RBF kernels on the Wine dataset, then compare their accuracies."
      ],
      "metadata": {
        "id": "Ds7B7I2zXK7m"
      }
    },
    {
      "cell_type": "code",
      "source": [
        "import pandas as pd\n",
        "from sklearn.model_selection import train_test_split\n",
        "from sklearn.svm import SVC\n",
        "from sklearn.metrics import accuracy_score\n",
        "from sklearn.datasets import load_wine\n",
        "\n",
        "# Load dataset\n",
        "data = load_wine()\n",
        "X, y = pd.DataFrame(data.data), pd.Series(data.target)\n",
        "\n",
        "# Split dataset\n",
        "X_train, X_test, y_train, y_test = train_test_split(X, y, test_size=0.2, random_state=42)\n",
        "\n",
        "# Train Linear Kernel SVM\n",
        "model_linear = SVC(kernel=\"linear\", random_state=42)\n",
        "model_linear.fit(X_train, y_train)\n",
        "pred_linear = model_linear.predict(X_test)\n",
        "\n",
        "# Train RBF Kernel SVM\n",
        "model_rbf = SVC(kernel=\"rbf\", random_state=42)\n",
        "model_rbf.fit(X_train, y_train)\n",
        "pred_rbf = model_rbf.predict(X_test)\n",
        "\n",
        "# Print accuracy comparison\n",
        "print(\"Linear Kernel Accuracy:\", accuracy_score(y_test, pred_linear))\n",
        "print(\"RBF Kernel Accuracy:\", accuracy_score(y_test, pred_rbf))\n"
      ],
      "metadata": {
        "colab": {
          "base_uri": "https://localhost:8080/"
        },
        "id": "fRzwJBe4XNG_",
        "outputId": "2940bfe6-0cb4-43fa-d683-5ed68eab0160"
      },
      "execution_count": 3,
      "outputs": [
        {
          "output_type": "stream",
          "name": "stdout",
          "text": [
            "Linear Kernel Accuracy: 1.0\n",
            "RBF Kernel Accuracy: 0.8055555555555556\n"
          ]
        }
      ]
    },
    {
      "cell_type": "markdown",
      "source": [
        "23. Write a Python program to train an SVM Regressor (SVR) on a housing dataset and evaluate it using Mean Squared Error (MSE)."
      ],
      "metadata": {
        "id": "hNtOFOr7XRjK"
      }
    },
    {
      "cell_type": "code",
      "source": [
        "import pandas as pd\n",
        "from sklearn.model_selection import train_test_split\n",
        "from sklearn.svm import SVR\n",
        "from sklearn.metrics import mean_squared_error\n",
        "from sklearn.datasets import fetch_california_housing\n",
        "\n",
        "# Load dataset\n",
        "data = fetch_california_housing()\n",
        "X, y = pd.DataFrame(data.data, columns=data.feature_names), pd.Series(data.target)\n",
        "\n",
        "# Split dataset\n",
        "X_train, X_test, y_train, y_test = train_test_split(X, y, test_size=0.2, random_state=42)\n",
        "\n",
        "# Train Support Vector Regressor\n",
        "model = SVR(kernel=\"rbf\")\n",
        "model.fit(X_train, y_train)\n",
        "\n",
        "# Predict and evaluate\n",
        "y_pred = model.predict(X_test)\n",
        "print(\"Mean Squared Error:\", mean_squared_error(y_test, y_pred))\n"
      ],
      "metadata": {
        "colab": {
          "base_uri": "https://localhost:8080/"
        },
        "id": "64MjwBEQXTti",
        "outputId": "11212f8c-56a9-4c1d-f31a-25e8b1a9deb0"
      },
      "execution_count": 4,
      "outputs": [
        {
          "output_type": "stream",
          "name": "stdout",
          "text": [
            "Mean Squared Error: 1.3320115421348744\n"
          ]
        }
      ]
    },
    {
      "cell_type": "markdown",
      "source": [
        "24. Write a Python program to train an SVM Classifier with a Polynomial Kernel and visualize the decision boundary."
      ],
      "metadata": {
        "id": "tP_X677fXaPA"
      }
    },
    {
      "cell_type": "code",
      "source": [
        "import numpy as np\n",
        "import matplotlib.pyplot as plt\n",
        "from sklearn.svm import SVC\n",
        "from sklearn.datasets import make_classification\n",
        "from mlxtend.plotting import plot_decision_regions\n",
        "\n",
        "# Generate dataset with proper feature settings\n",
        "X, y = make_classification(n_samples=100, n_features=2,\n",
        "                           n_informative=2, n_redundant=0,\n",
        "                           n_classes=2, random_state=42)\n",
        "\n",
        "# Train Polynomial Kernel SVM\n",
        "model = SVC(kernel=\"poly\", degree=3)\n",
        "model.fit(X, y)\n",
        "\n",
        "# Plot decision boundary\n",
        "plt.figure(figsize=(8, 5))\n",
        "plot_decision_regions(X, y, clf=model, legend=2)\n",
        "plt.title(\"SVM with Polynomial Kernel\")\n",
        "plt.show()\n"
      ],
      "metadata": {
        "colab": {
          "base_uri": "https://localhost:8080/",
          "height": 468
        },
        "id": "eoL9YU5rXckq",
        "outputId": "a2c71b1d-bb7e-4374-c19b-99c7306d8f1c"
      },
      "execution_count": 5,
      "outputs": [
        {
          "output_type": "display_data",
          "data": {
            "text/plain": [
              "<Figure size 800x500 with 1 Axes>"
            ],
            "image/png": "[encoded data removed]"
          },
          "metadata": {}
        }
      ]
    },
    {
      "cell_type": "markdown",
      "source": [
        "25. Write a Python program to train a Gaussian Naïve Bayes classifier on the Breast Cancer dataset and evaluate accuracy."
      ],
      "metadata": {
        "id": "_xKaWOSYXgft"
      }
    },
    {
      "cell_type": "code",
      "source": [
        "import pandas as pd\n",
        "from sklearn.model_selection import train_test_split\n",
        "from sklearn.naive_bayes import GaussianNB\n",
        "from sklearn.metrics import accuracy_score\n",
        "from sklearn.datasets import load_breast_cancer\n",
        "\n",
        "# Load dataset\n",
        "data = load_breast_cancer()\n",
        "X, y = pd.DataFrame(data.data), pd.Series(data.target)\n",
        "\n",
        "# Split dataset\n",
        "X_train, X_test, y_train, y_test = train_test_split(X, y, test_size=0.2, random_state=42)\n",
        "\n",
        "# Train Gaussian Naïve Bayes model\n",
        "model = GaussianNB()\n",
        "model.fit(X_train, y_train)\n",
        "\n",
        "# Predict and evaluate accuracy\n",
        "y_pred = model.predict(X_test)\n",
        "print(\"Gaussian Naïve Bayes Accuracy:\", accuracy_score(y_test, y_pred))\n"
      ],
      "metadata": {
        "colab": {
          "base_uri": "https://localhost:8080/"
        },
        "id": "eIgAnDy8Xiga",
        "outputId": "ce5cd623-5d0a-4e36-df45-1365d58a6f65"
      },
      "execution_count": 6,
      "outputs": [
        {
          "output_type": "stream",
          "name": "stdout",
          "text": [
            "Gaussian Naïve Bayes Accuracy: 0.9736842105263158\n"
          ]
        }
      ]
    },
    {
      "cell_type": "markdown",
      "source": [
        "26. Write a Python program to train a Multinomial Naïve Bayes classifier for text classification using the 20 Newsgroups dataset."
      ],
      "metadata": {
        "id": "LnEeNMsbXllE"
      }
    },
    {
      "cell_type": "code",
      "source": [
        "from sklearn.datasets import fetch_20newsgroups\n",
        "from sklearn.feature_extraction.text import CountVectorizer\n",
        "from sklearn.model_selection import train_test_split\n",
        "from sklearn.naive_bayes import MultinomialNB\n",
        "from sklearn.metrics import accuracy_score\n",
        "\n",
        "# Load dataset\n",
        "data = fetch_20newsgroups(subset='all', categories=['alt.atheism', 'sci.space'])\n",
        "X, y = data.data, data.target\n",
        "\n",
        "# Convert text data into numerical features\n",
        "vectorizer = CountVectorizer()\n",
        "X_transformed = vectorizer.fit_transform(X)\n",
        "\n",
        "# Split dataset\n",
        "X_train, X_test, y_train, y_test = train_test_split(X_transformed, y, test_size=0.2, random_state=42)\n",
        "\n",
        "# Train Multinomial Naïve Bayes model\n",
        "model = MultinomialNB()\n",
        "model.fit(X_train, y_train)\n",
        "\n",
        "# Predict and evaluate\n",
        "y_pred = model.predict(X_test)\n",
        "print(\"Text Classification Accuracy:\", accuracy_score(y_test, y_pred))\n"
      ],
      "metadata": {
        "colab": {
          "base_uri": "https://localhost:8080/"
        },
        "id": "cmPhcYV_Xonh",
        "outputId": "62e7e12f-21bc-4556-a22b-f794eaec14a4"
      },
      "execution_count": 7,
      "outputs": [
        {
          "output_type": "stream",
          "name": "stdout",
          "text": [
            "Text Classification Accuracy: 0.994413407821229\n"
          ]
        }
      ]
    },
    {
      "cell_type": "markdown",
      "source": [
        "27. Write a Python program to train an SVM Classifier with different C values and compare the decision boundaries visually."
      ],
      "metadata": {
        "id": "EME_Qs2hXuC7"
      }
    },
    {
      "cell_type": "code",
      "source": [
        "import numpy as np\n",
        "import matplotlib.pyplot as plt\n",
        "from sklearn.svm import SVC\n",
        "from sklearn.datasets import make_classification\n",
        "from mlxtend.plotting import plot_decision_regions\n",
        "\n",
        "# Generate dataset with overlap (non-linearly separable)\n",
        "X, y = make_classification(n_samples=300, n_features=2, n_informative=2,\n",
        "                           n_redundant=0, n_clusters_per_class=1, class_sep=0.5,\n",
        "                           flip_y=0.1, random_state=42)\n",
        "\n",
        "# Train SVM with different C values\n",
        "C_values = [0.01, 1, 100]\n",
        "plt.figure(figsize=(12, 4))\n",
        "\n",
        "for i, C in enumerate(C_values, 1):\n",
        "    model = SVC(kernel=\"linear\", C=C)\n",
        "    model.fit(X, y)\n",
        "\n",
        "    plt.subplot(1, 3, i)\n",
        "    plot_decision_regions(X, y, clf=model, legend=2)\n",
        "    plt.title(f\"SVM Decision Boundary (C={C})\")\n",
        "\n",
        "plt.show()\n"
      ],
      "metadata": {
        "colab": {
          "base_uri": "https://localhost:8080/",
          "height": 387
        },
        "id": "6OMdtXdlXxHT",
        "outputId": "9533a001-15f4-417f-9a14-e2c501186b72"
      },
      "execution_count": 8,
      "outputs": [
        {
          "output_type": "display_data",
          "data": {
            "text/plain": [
              "<Figure size 1200x400 with 3 Axes>"
            ],
            "image/png": "[encoded data removed]"
          },
          "metadata": {}
        }
      ]
    },
    {
      "cell_type": "markdown",
      "source": [
        "28. Write a Python program to train a Bernoulli Naïve Bayes classifier for binary classification on a dataset with binary features."
      ],
      "metadata": {
        "id": "NqyjWQqFX1n_"
      }
    },
    {
      "cell_type": "code",
      "source": [
        "import pandas as pd\n",
        "from sklearn.model_selection import train_test_split\n",
        "from sklearn.naive_bayes import BernoulliNB\n",
        "from sklearn.metrics import accuracy_score\n",
        "from sklearn.datasets import make_classification\n",
        "\n",
        "# Generate a binary feature dataset\n",
        "X, y = make_classification(n_samples=500, n_features=10, n_classes=2, n_informative=8, random_state=42)\n",
        "X = (X > 0).astype(int)  # Convert to binary features (0 or 1)\n",
        "\n",
        "# Split dataset\n",
        "X_train, X_test, y_train, y_test = train_test_split(X, y, test_size=0.2, random_state=42)\n",
        "\n",
        "# Train Bernoulli Naïve Bayes model\n",
        "model = BernoulliNB()\n",
        "model.fit(X_train, y_train)\n",
        "\n",
        "# Predict and evaluate\n",
        "y_pred = model.predict(X_test)\n",
        "print(\"Bernoulli Naïve Bayes Accuracy:\", accuracy_score(y_test, y_pred))\n"
      ],
      "metadata": {
        "colab": {
          "base_uri": "https://localhost:8080/"
        },
        "id": "HJnoupbEX3rx",
        "outputId": "c1e933d2-0e70-4f52-f9a2-fb28443c3acc"
      },
      "execution_count": 9,
      "outputs": [
        {
          "output_type": "stream",
          "name": "stdout",
          "text": [
            "Bernoulli Naïve Bayes Accuracy: 0.74\n"
          ]
        }
      ]
    },
    {
      "cell_type": "markdown",
      "source": [
        "29. Write a Python program to apply feature scaling before training an SVM model and compare results with unscaled data."
      ],
      "metadata": {
        "id": "gnT78WxqX6NZ"
      }
    },
    {
      "cell_type": "code",
      "source": [
        "import pandas as pd\n",
        "from sklearn.model_selection import train_test_split\n",
        "from sklearn.preprocessing import StandardScaler\n",
        "from sklearn.svm import SVC\n",
        "from sklearn.metrics import accuracy_score\n",
        "from sklearn.datasets import load_wine\n",
        "\n",
        "# Load dataset\n",
        "data = load_wine()\n",
        "X, y = pd.DataFrame(data.data), pd.Series(data.target)\n",
        "\n",
        "# Split dataset\n",
        "X_train, X_test, y_train, y_test = train_test_split(X, y, test_size=0.2, random_state=42)\n",
        "\n",
        "# Train SVM without scaling\n",
        "model_unscaled = SVC()\n",
        "model_unscaled.fit(X_train, y_train)\n",
        "pred_unscaled = model_unscaled.predict(X_test)\n",
        "\n",
        "# Apply feature scaling\n",
        "scaler = StandardScaler()\n",
        "X_train_scaled = scaler.fit_transform(X_train)\n",
        "X_test_scaled = scaler.transform(X_test)\n",
        "\n",
        "# Train SVM on scaled data\n",
        "model_scaled = SVC()\n",
        "model_scaled.fit(X_train_scaled, y_train)\n",
        "pred_scaled = model_scaled.predict(X_test_scaled)\n",
        "\n",
        "# Print accuracy comparison\n",
        "print(\"Accuracy without scaling:\", accuracy_score(y_test, pred_unscaled))\n",
        "print(\"Accuracy with scaling:\", accuracy_score(y_test, pred_scaled))\n"
      ],
      "metadata": {
        "colab": {
          "base_uri": "https://localhost:8080/"
        },
        "id": "OO_wxSfRX89C",
        "outputId": "6220c73d-d583-4bd5-ead8-8536d941aa16"
      },
      "execution_count": 10,
      "outputs": [
        {
          "output_type": "stream",
          "name": "stdout",
          "text": [
            "Accuracy without scaling: 0.8055555555555556\n",
            "Accuracy with scaling: 1.0\n"
          ]
        }
      ]
    },
    {
      "cell_type": "markdown",
      "source": [
        "30. Write a Python program to train a Gaussian Naïve Bayes model and compare the predictions before and after Laplace Smoothing."
      ],
      "metadata": {
        "id": "mhGgBpgmYDGa"
      }
    },
    {
      "cell_type": "code",
      "source": [
        "import pandas as pd\n",
        "from sklearn.model_selection import train_test_split\n",
        "from sklearn.naive_bayes import GaussianNB\n",
        "from sklearn.metrics import accuracy_score\n",
        "from sklearn.datasets import load_digits\n",
        "\n",
        "# Load dataset\n",
        "data = load_digits()\n",
        "X, y = pd.DataFrame(data.data), pd.Series(data.target)\n",
        "\n",
        "# Split dataset\n",
        "X_train, X_test, y_train, y_test = train_test_split(X, y, test_size=0.2, random_state=42)\n",
        "\n",
        "# Train Gaussian Naïve Bayes without Laplace Smoothing\n",
        "model_no_smoothing = GaussianNB(var_smoothing=0)\n",
        "model_no_smoothing.fit(X_train, y_train)\n",
        "pred_no_smoothing = model_no_smoothing.predict(X_test)\n",
        "\n",
        "# Train Gaussian Naïve Bayes with Laplace Smoothing\n",
        "model_with_smoothing = GaussianNB(var_smoothing=1e-9)\n",
        "model_with_smoothing.fit(X_train, y_train)\n",
        "pred_with_smoothing = model_with_smoothing.predict(X_test)\n",
        "\n",
        "# Print accuracy comparison\n",
        "print(\"Accuracy without Laplace Smoothing:\", accuracy_score(y_test, pred_no_smoothing))\n",
        "print(\"Accuracy with Laplace Smoothing:\", accuracy_score(y_test, pred_with_smoothing))\n"
      ],
      "metadata": {
        "colab": {
          "base_uri": "https://localhost:8080/"
        },
        "id": "DxptzyN9YDtf",
        "outputId": "5500a619-080a-4c3d-cf09-a7d8b5da520f"
      },
      "execution_count": 11,
      "outputs": [
        {
          "output_type": "stream",
          "name": "stdout",
          "text": [
            "Accuracy without Laplace Smoothing: 0.09166666666666666\n",
            "Accuracy with Laplace Smoothing: 0.8472222222222222\n"
          ]
        },
        {
          "output_type": "stream",
          "name": "stderr",
          "text": [
            "/usr/local/lib/python3.11/dist-packages/sklearn/naive_bayes.py:513: RuntimeWarning: divide by zero encountered in log\n",
            "  n_ij = -0.5 * np.sum(np.log(2.0 * np.pi * self.var_[i, :]))\n",
            "/usr/local/lib/python3.11/dist-packages/sklearn/naive_bayes.py:514: RuntimeWarning: divide by zero encountered in divide\n",
            "  n_ij -= 0.5 * np.sum(((X - self.theta_[i, :]) ** 2) / (self.var_[i, :]), 1)\n",
            "/usr/local/lib/python3.11/dist-packages/sklearn/naive_bayes.py:514: RuntimeWarning: invalid value encountered in divide\n",
            "  n_ij -= 0.5 * np.sum(((X - self.theta_[i, :]) ** 2) / (self.var_[i, :]), 1)\n"
          ]
        }
      ]
    },
    {
      "cell_type": "markdown",
      "source": [
        "31. Write a Python program to train an SVM Classifier and use GridSearchCV to tune the hyperparameters (C, gamma, kernel)."
      ],
      "metadata": {
        "id": "vw_YmJyAYGqD"
      }
    },
    {
      "cell_type": "code",
      "source": [
        "import pandas as pd\n",
        "from sklearn.model_selection import train_test_split, GridSearchCV\n",
        "from sklearn.svm import SVC\n",
        "from sklearn.datasets import load_breast_cancer\n",
        "from sklearn.metrics import accuracy_score\n",
        "\n",
        "# Load dataset\n",
        "data = load_breast_cancer()\n",
        "X, y = pd.DataFrame(data.data), pd.Series(data.target)\n",
        "\n",
        "# Split dataset\n",
        "X_train, X_test, y_train, y_test = train_test_split(X, y, test_size=0.2, random_state=42)\n",
        "\n",
        "# Define hyperparameter grid\n",
        "param_grid = {\n",
        "    'C': [0.1, 1, 10],\n",
        "    'gamma': ['scale', 'auto'],\n",
        "    'kernel': ['linear', 'rbf']\n",
        "}\n",
        "\n",
        "# Perform Grid Search\n",
        "grid_search = GridSearchCV(SVC(), param_grid, cv=5)\n",
        "grid_search.fit(X_train, y_train)\n",
        "\n",
        "# Get best parameters and train best model\n",
        "best_model = grid_search.best_estimator_\n",
        "y_pred = best_model.predict(X_test)\n",
        "\n",
        "# Print best parameters and accuracy\n",
        "print(\"Best Parameters:\", grid_search.best_params_)\n",
        "print(\"Best Model Accuracy:\", accuracy_score(y_test, y_pred))\n"
      ],
      "metadata": {
        "colab": {
          "base_uri": "https://localhost:8080/"
        },
        "id": "KGy1iAbPYJkP",
        "outputId": "51ceca9d-1ea6-4a69-8941-a7020e2f2170"
      },
      "execution_count": 12,
      "outputs": [
        {
          "output_type": "stream",
          "name": "stdout",
          "text": [
            "Best Parameters: {'C': 1, 'gamma': 'scale', 'kernel': 'linear'}\n",
            "Best Model Accuracy: 0.956140350877193\n"
          ]
        }
      ]
    },
    {
      "cell_type": "markdown",
      "source": [
        "32. Write a Python program to train an SVM Classifier on an imbalanced dataset and apply class weighting and check it improve accuracy."
      ],
      "metadata": {
        "id": "JmrLAIckYO-A"
      }
    },
    {
      "cell_type": "code",
      "source": [
        "import pandas as pd\n",
        "from sklearn.model_selection import train_test_split\n",
        "from sklearn.svm import SVC\n",
        "from sklearn.metrics import accuracy_score\n",
        "from sklearn.datasets import make_classification\n",
        "\n",
        "# Generate an imbalanced dataset\n",
        "X, y = make_classification(n_samples=1000, n_features=10, weights=[0.9, 0.1], random_state=42)\n",
        "\n",
        "# Split dataset\n",
        "X_train, X_test, y_train, y_test = train_test_split(X, y, test_size=0.2, random_state=42)\n",
        "\n",
        "# Train SVM without class weighting\n",
        "model_unweighted = SVC()\n",
        "model_unweighted.fit(X_train, y_train)\n",
        "pred_unweighted = model_unweighted.predict(X_test)\n",
        "\n",
        "# Train SVM with class weighting\n",
        "model_weighted = SVC(class_weight='balanced')\n",
        "model_weighted.fit(X_train, y_train)\n",
        "pred_weighted = model_weighted.predict(X_test)\n",
        "\n",
        "# Print accuracy comparison\n",
        "print(\"Accuracy without class weighting:\", accuracy_score(y_test, pred_unweighted))\n",
        "print(\"Accuracy with class weighting:\", accuracy_score(y_test, pred_weighted))\n"
      ],
      "metadata": {
        "colab": {
          "base_uri": "https://localhost:8080/"
        },
        "id": "PN571DUfYRmw",
        "outputId": "8622c396-262b-4c19-c01e-ae1c4ce9be54"
      },
      "execution_count": 13,
      "outputs": [
        {
          "output_type": "stream",
          "name": "stdout",
          "text": [
            "Accuracy without class weighting: 0.92\n",
            "Accuracy with class weighting: 0.89\n"
          ]
        }
      ]
    },
    {
      "cell_type": "markdown",
      "source": [
        "33. Write a Python program to implement a Naïve Bayes classifier for spam detection using email data."
      ],
      "metadata": {
        "id": "XONRBZ2PYYCb"
      }
    },
    {
      "cell_type": "code",
      "source": [
        "from sklearn.feature_extraction.text import CountVectorizer\n",
        "from sklearn.model_selection import train_test_split\n",
        "from sklearn.naive_bayes import MultinomialNB\n",
        "from sklearn.metrics import accuracy_score\n",
        "\n",
        "# Sample dataset\n",
        "emails = [\"Congratulations! You've won a free lottery ticket\",\n",
        "          \"Reminder: Your bill is due tomorrow\",\n",
        "          \"Limited time offer! Get 50% off on all products\",\n",
        "          \"Meeting at 10 AM tomorrow, please confirm\",\n",
        "          \"Win cash prizes now by clicking this link\",\n",
        "          \"Your bank statement is now available online\"]\n",
        "labels = [1, 0, 1, 0, 1, 0]  # 1 = Spam, 0 = Not Spam\n",
        "\n",
        "# Convert text data into numerical features\n",
        "vectorizer = CountVectorizer()\n",
        "X_transformed = vectorizer.fit_transform(emails)\n",
        "\n",
        "# Split dataset\n",
        "X_train, X_test, y_train, y_test = train_test_split(X_transformed, labels, test_size=0.2, random_state=42)\n",
        "\n",
        "# Train Naïve Bayes model\n",
        "model = MultinomialNB()\n",
        "model.fit(X_train, y_train)\n",
        "\n",
        "# Predict and evaluate\n",
        "y_pred = model.predict(X_test)\n",
        "print(\"Spam Classification Accuracy:\", accuracy_score(y_test, y_pred))\n"
      ],
      "metadata": {
        "colab": {
          "base_uri": "https://localhost:8080/"
        },
        "id": "G2ADOWCoYft5",
        "outputId": "37efe507-7831-4e99-de56-c702c01b60fa"
      },
      "execution_count": 14,
      "outputs": [
        {
          "output_type": "stream",
          "name": "stdout",
          "text": [
            "Spam Classification Accuracy: 0.5\n"
          ]
        }
      ]
    },
    {
      "cell_type": "markdown",
      "source": [
        "34. Write a Python program to train an SVM Classifier and a Naïve Bayes Classifier on the same dataset and compare their accuracy."
      ],
      "metadata": {
        "id": "X7A42yZYYkQw"
      }
    },
    {
      "cell_type": "code",
      "source": [
        "import pandas as pd\n",
        "from sklearn.model_selection import train_test_split\n",
        "from sklearn.svm import SVC\n",
        "from sklearn.naive_bayes import GaussianNB\n",
        "from sklearn.metrics import accuracy_score\n",
        "from sklearn.datasets import load_wine\n",
        "\n",
        "# Load dataset\n",
        "data = load_wine()\n",
        "X, y = pd.DataFrame(data.data), pd.Series(data.target)\n",
        "\n",
        "# Split dataset\n",
        "X_train, X_test, y_train, y_test = train_test_split(X, y, test_size=0.2, random_state=42)\n",
        "\n",
        "# Train SVM Classifier\n",
        "svm_model = SVC()\n",
        "svm_model.fit(X_train, y_train)\n",
        "pred_svm = svm_model.predict(X_test)\n",
        "\n",
        "# Train Naïve Bayes Classifier\n",
        "nb_model = GaussianNB()\n",
        "nb_model.fit(X_train, y_train)\n",
        "pred_nb = nb_model.predict(X_test)\n",
        "\n",
        "# Print accuracy comparison\n",
        "print(\"SVM Accuracy:\", accuracy_score(y_test, pred_svm))\n",
        "print(\"Naïve Bayes Accuracy:\", accuracy_score(y_test, pred_nb))\n"
      ],
      "metadata": {
        "colab": {
          "base_uri": "https://localhost:8080/"
        },
        "id": "YsJ-DphTYmPU",
        "outputId": "c7f6727e-c4de-4663-bdc3-479572d15818"
      },
      "execution_count": 15,
      "outputs": [
        {
          "output_type": "stream",
          "name": "stdout",
          "text": [
            "SVM Accuracy: 0.8055555555555556\n",
            "Naïve Bayes Accuracy: 1.0\n"
          ]
        }
      ]
    },
    {
      "cell_type": "markdown",
      "source": [
        "35. Write a Python program to perform feature selection before training a Naïve Bayes classifier and compare results."
      ],
      "metadata": {
        "id": "HryH8IfjYrGc"
      }
    },
    {
      "cell_type": "code",
      "source": [
        "import pandas as pd\n",
        "from sklearn.model_selection import train_test_split\n",
        "from sklearn.naive_bayes import GaussianNB\n",
        "from sklearn.feature_selection import SelectKBest, f_classif\n",
        "from sklearn.metrics import accuracy_score\n",
        "from sklearn.datasets import load_wine\n",
        "\n",
        "# Load dataset\n",
        "data = load_wine()\n",
        "X, y = pd.DataFrame(data.data), pd.Series(data.target)\n",
        "\n",
        "# Perform feature selection (select top 5 features)\n",
        "selector = SelectKBest(score_func=f_classif, k=5)\n",
        "X_selected = selector.fit_transform(X, y)\n",
        "\n",
        "# Split dataset\n",
        "X_train, X_test, y_train, y_test = train_test_split(X_selected, y, test_size=0.2, random_state=42)\n",
        "\n",
        "# Train Naïve Bayes model\n",
        "model = GaussianNB()\n",
        "model.fit(X_train, y_train)\n",
        "\n",
        "# Predict and evaluate\n",
        "y_pred = model.predict(X_test)\n",
        "print(\"Naïve Bayes Accuracy after Feature Selection:\", accuracy_score(y_test, y_pred))\n"
      ],
      "metadata": {
        "colab": {
          "base_uri": "https://localhost:8080/"
        },
        "id": "CImTSPR7YtS4",
        "outputId": "38b2e88c-27f8-4946-83f5-660799b0ecbd"
      },
      "execution_count": 16,
      "outputs": [
        {
          "output_type": "stream",
          "name": "stdout",
          "text": [
            "Naïve Bayes Accuracy after Feature Selection: 0.9444444444444444\n"
          ]
        }
      ]
    },
    {
      "cell_type": "markdown",
      "source": [
        "36. Write a Python program to train an SVM Classifier using One-vs-Rest (OvR) and One-vs-One (OvO) strategies on the Wine dataset and compare their accuracy."
      ],
      "metadata": {
        "id": "PCD17SydYwzp"
      }
    },
    {
      "cell_type": "code",
      "source": [
        "import pandas as pd\n",
        "from sklearn.model_selection import train_test_split\n",
        "from sklearn.svm import SVC\n",
        "from sklearn.multiclass import OneVsRestClassifier, OneVsOneClassifier\n",
        "from sklearn.datasets import load_wine\n",
        "from sklearn.metrics import accuracy_score\n",
        "\n",
        "# Load dataset\n",
        "data = load_wine()\n",
        "X, y = pd.DataFrame(data.data), pd.Series(data.target)\n",
        "\n",
        "# Split dataset\n",
        "X_train, X_test, y_train, y_test = train_test_split(X, y, test_size=0.2, random_state=42)\n",
        "\n",
        "# Train One-vs-Rest (OvR) SVM\n",
        "ovr_model = OneVsRestClassifier(SVC(kernel='linear'))\n",
        "ovr_model.fit(X_train, y_train)\n",
        "ovr_pred = ovr_model.predict(X_test)\n",
        "\n",
        "# Train One-vs-One (OvO) SVM\n",
        "ovo_model = OneVsOneClassifier(SVC(kernel='linear'))\n",
        "ovo_model.fit(X_train, y_train)\n",
        "ovo_pred = ovo_model.predict(X_test)\n",
        "\n",
        "# Print accuracy comparison\n",
        "print(\"OvR SVM Accuracy:\", accuracy_score(y_test, ovr_pred))\n",
        "print(\"OvO SVM Accuracy:\", accuracy_score(y_test, ovo_pred))\n"
      ],
      "metadata": {
        "colab": {
          "base_uri": "https://localhost:8080/"
        },
        "id": "Gj-f5rWOYytG",
        "outputId": "5a95de62-1213-473d-e695-d48fd7617125"
      },
      "execution_count": 17,
      "outputs": [
        {
          "output_type": "stream",
          "name": "stdout",
          "text": [
            "OvR SVM Accuracy: 1.0\n",
            "OvO SVM Accuracy: 1.0\n"
          ]
        }
      ]
    },
    {
      "cell_type": "markdown",
      "source": [
        "37. Write a Python program to train an SVM Classifier using Linear, Polynomial, and RBF kernels on the Breast Cancer dataset and compare their accuracy."
      ],
      "metadata": {
        "id": "5ly5wI4SY-W9"
      }
    },
    {
      "cell_type": "code",
      "source": [
        "import pandas as pd\n",
        "from sklearn.model_selection import train_test_split\n",
        "from sklearn.svm import SVC\n",
        "from sklearn.metrics import accuracy_score\n",
        "from sklearn.datasets import load_breast_cancer\n",
        "\n",
        "# Load dataset\n",
        "data = load_breast_cancer()\n",
        "X, y = pd.DataFrame(data.data), pd.Series(data.target)\n",
        "\n",
        "# Split dataset\n",
        "X_train, X_test, y_train, y_test = train_test_split(X, y, test_size=0.2, random_state=42)\n",
        "\n",
        "# Train SVM models with different kernels\n",
        "kernels = ['linear', 'poly', 'rbf']\n",
        "for kernel in kernels:\n",
        "    model = SVC(kernel=kernel)\n",
        "    model.fit(X_train, y_train)\n",
        "    y_pred = model.predict(X_test)\n",
        "    print(f\"SVM Accuracy with {kernel} kernel:\", accuracy_score(y_test, y_pred))\n"
      ],
      "metadata": {
        "colab": {
          "base_uri": "https://localhost:8080/"
        },
        "id": "qZNjNKj5ZApZ",
        "outputId": "3088b061-b321-48a5-a270-9af2240454cb"
      },
      "execution_count": 18,
      "outputs": [
        {
          "output_type": "stream",
          "name": "stdout",
          "text": [
            "SVM Accuracy with linear kernel: 0.956140350877193\n",
            "SVM Accuracy with poly kernel: 0.9473684210526315\n",
            "SVM Accuracy with rbf kernel: 0.9473684210526315\n"
          ]
        }
      ]
    },
    {
      "cell_type": "markdown",
      "source": [
        "38. Write a Python program to train an SVM Classifier using Stratified K-Fold Cross-Validation and compute the average accuracy."
      ],
      "metadata": {
        "id": "AMlOnHI0ZDz9"
      }
    },
    {
      "cell_type": "code",
      "source": [
        "import pandas as pd\n",
        "from sklearn.model_selection import StratifiedKFold, cross_val_score\n",
        "from sklearn.svm import SVC\n",
        "from sklearn.datasets import load_iris\n",
        "\n",
        "# Load dataset\n",
        "data = load_iris()\n",
        "X, y = pd.DataFrame(data.data), pd.Series(data.target)\n",
        "\n",
        "# Define Stratified K-Fold\n",
        "skf = StratifiedKFold(n_splits=5, shuffle=True, random_state=42)\n",
        "\n",
        "# Train SVM model with cross-validation\n",
        "model = SVC(kernel='linear')\n",
        "scores = cross_val_score(model, X, y, cv=skf)\n",
        "\n",
        "# Print average accuracy\n",
        "print(\"Average Cross-Validation Accuracy:\", scores.mean())\n"
      ],
      "metadata": {
        "colab": {
          "base_uri": "https://localhost:8080/"
        },
        "id": "fG-lS7ZIZF0j",
        "outputId": "8d857d15-0cd1-4942-9020-c1845b97d027"
      },
      "execution_count": 19,
      "outputs": [
        {
          "output_type": "stream",
          "name": "stdout",
          "text": [
            "Average Cross-Validation Accuracy: 0.9866666666666667\n"
          ]
        }
      ]
    },
    {
      "cell_type": "markdown",
      "source": [
        "39. Write a Python program to train a Naïve Bayes classifier using different prior probabilities and compare performance."
      ],
      "metadata": {
        "id": "EA_zIMsFZJEP"
      }
    },
    {
      "cell_type": "code",
      "source": [
        "import pandas as pd\n",
        "from sklearn.model_selection import train_test_split\n",
        "from sklearn.naive_bayes import GaussianNB\n",
        "from sklearn.metrics import accuracy_score\n",
        "from sklearn.datasets import load_wine\n",
        "\n",
        "# Load dataset\n",
        "data = load_wine()\n",
        "X, y = pd.DataFrame(data.data), pd.Series(data.target)\n",
        "\n",
        "# Split dataset\n",
        "X_train, X_test, y_train, y_test = train_test_split(X, y, test_size=0.2, random_state=42)\n",
        "\n",
        "# Define different priors\n",
        "priors_list = [[0.2, 0.3, 0.5], [0.1, 0.1, 0.8], None]\n",
        "\n",
        "for priors in priors_list:\n",
        "    model = GaussianNB(priors=priors)\n",
        "    model.fit(X_train, y_train)\n",
        "    y_pred = model.predict(X_test)\n",
        "    print(f\"Naïve Bayes Accuracy with priors {priors}:\", accuracy_score(y_test, y_pred))\n"
      ],
      "metadata": {
        "colab": {
          "base_uri": "https://localhost:8080/"
        },
        "id": "Zn6aAF3LZLBY",
        "outputId": "f8bb4617-cc43-4afa-fd6d-70c4ae497e24"
      },
      "execution_count": 20,
      "outputs": [
        {
          "output_type": "stream",
          "name": "stdout",
          "text": [
            "Naïve Bayes Accuracy with priors [0.2, 0.3, 0.5]: 1.0\n",
            "Naïve Bayes Accuracy with priors [0.1, 0.1, 0.8]: 1.0\n",
            "Naïve Bayes Accuracy with priors None: 1.0\n"
          ]
        }
      ]
    },
    {
      "cell_type": "markdown",
      "source": [
        "40. Write a Python program to perform Recursive Feature Elimination (RFE) before training an SVM Classifier and compare accuracy."
      ],
      "metadata": {
        "id": "DK4sngKbZNgT"
      }
    },
    {
      "cell_type": "code",
      "source": [
        "import pandas as pd\n",
        "from sklearn.model_selection import train_test_split\n",
        "from sklearn.svm import SVC\n",
        "from sklearn.feature_selection import RFE\n",
        "from sklearn.metrics import accuracy_score\n",
        "from sklearn.datasets import load_wine\n",
        "\n",
        "# Load dataset\n",
        "data = load_wine()\n",
        "X, y = pd.DataFrame(data.data), pd.Series(data.target)\n",
        "\n",
        "# Perform feature selection using RFE (Recursive Feature Elimination)\n",
        "model = SVC(kernel=\"linear\")\n",
        "selector = RFE(model, n_features_to_select=5)\n",
        "X_selected = selector.fit_transform(X, y)\n",
        "\n",
        "# Split dataset\n",
        "X_train, X_test, y_train, y_test = train_test_split(X_selected, y, test_size=0.2, random_state=42)\n",
        "\n",
        "# Train SVM model\n",
        "model.fit(X_train, y_train)\n",
        "\n",
        "# Predict and evaluate\n",
        "y_pred = model.predict(X_test)\n",
        "print(\"SVM Accuracy after Recursive Feature Elimination:\", accuracy_score(y_test, y_pred))\n"
      ],
      "metadata": {
        "colab": {
          "base_uri": "https://localhost:8080/"
        },
        "id": "OBd__fLKZPyh",
        "outputId": "5bffb03f-6fd6-43c1-d0ec-9d70c721ec83"
      },
      "execution_count": 21,
      "outputs": [
        {
          "output_type": "stream",
          "name": "stdout",
          "text": [
            "SVM Accuracy after Recursive Feature Elimination: 0.9444444444444444\n"
          ]
        }
      ]
    },
    {
      "cell_type": "markdown",
      "source": [
        "41. Write a Python program to train an SVM Classifier and evaluate its performance using Precision, Recall, and F1-Score instead of accuracy."
      ],
      "metadata": {
        "id": "IljrxlUtZUvS"
      }
    },
    {
      "cell_type": "code",
      "source": [
        "import pandas as pd\n",
        "from sklearn.model_selection import train_test_split\n",
        "from sklearn.svm import SVC\n",
        "from sklearn.metrics import precision_score, recall_score, f1_score\n",
        "from sklearn.datasets import load_digits\n",
        "\n",
        "# Load dataset\n",
        "data = load_digits()\n",
        "X, y = pd.DataFrame(data.data), pd.Series(data.target % 2)  # Convert to binary classification\n",
        "\n",
        "# Split dataset\n",
        "X_train, X_test, y_train, y_test = train_test_split(X, y, test_size=0.2, random_state=42)\n",
        "\n",
        "# Train SVM Classifier\n",
        "model = SVC()\n",
        "model.fit(X_train, y_train)\n",
        "\n",
        "# Predict and evaluate\n",
        "y_pred = model.predict(X_test)\n",
        "print(\"Precision:\", precision_score(y_test, y_pred))\n",
        "print(\"Recall:\", recall_score(y_test, y_pred))\n",
        "print(\"F1-Score:\", f1_score(y_test, y_pred))\n"
      ],
      "metadata": {
        "colab": {
          "base_uri": "https://localhost:8080/"
        },
        "id": "wPgJGeSAZXAD",
        "outputId": "08f2d2c3-2c77-422b-b0b7-60f37cea6146"
      },
      "execution_count": 22,
      "outputs": [
        {
          "output_type": "stream",
          "name": "stdout",
          "text": [
            "Precision: 0.994535519125683\n",
            "Recall: 0.994535519125683\n",
            "F1-Score: 0.994535519125683\n"
          ]
        }
      ]
    },
    {
      "cell_type": "markdown",
      "source": [
        "42. Write a Python program to train a Naïve Bayes Classifier and evaluate its performance using Log Loss (Cross-Entropy Loss)."
      ],
      "metadata": {
        "id": "R5t406v3ZaDd"
      }
    },
    {
      "cell_type": "code",
      "source": [
        "import pandas as pd\n",
        "from sklearn.model_selection import train_test_split\n",
        "from sklearn.naive_bayes import GaussianNB\n",
        "from sklearn.metrics import log_loss\n",
        "from sklearn.datasets import load_wine\n",
        "\n",
        "# Load dataset\n",
        "data = load_wine()\n",
        "X, y = pd.DataFrame(data.data), pd.Series(data.target)\n",
        "\n",
        "# Split dataset\n",
        "X_train, X_test, y_train, y_test = train_test_split(X, y, test_size=0.2, random_state=42)\n",
        "\n",
        "# Train Naïve Bayes model\n",
        "model = GaussianNB()\n",
        "model.fit(X_train, y_train)\n",
        "\n",
        "# Predict probabilities and evaluate Log Loss\n",
        "y_prob = model.predict_proba(X_test)\n",
        "print(\"Log Loss:\", log_loss(y_test, y_prob))\n"
      ],
      "metadata": {
        "colab": {
          "base_uri": "https://localhost:8080/"
        },
        "id": "AwomV_MJZcTf",
        "outputId": "13db2b2d-c8e2-41af-e58b-6d7455fe6d8f"
      },
      "execution_count": 23,
      "outputs": [
        {
          "output_type": "stream",
          "name": "stdout",
          "text": [
            "Log Loss: 0.012158573021470631\n"
          ]
        }
      ]
    },
    {
      "cell_type": "markdown",
      "source": [
        "43. Write a Python program to train an SVM Classifier and visualize the Confusion Matrix using seaborn."
      ],
      "metadata": {
        "id": "pryNVF6KZfs8"
      }
    },
    {
      "cell_type": "code",
      "source": [
        "import pandas as pd\n",
        "import seaborn as sns\n",
        "import matplotlib.pyplot as plt\n",
        "from sklearn.model_selection import train_test_split\n",
        "from sklearn.svm import SVC\n",
        "from sklearn.metrics import confusion_matrix\n",
        "from sklearn.datasets import load_breast_cancer\n",
        "\n",
        "# Load dataset\n",
        "data = load_breast_cancer()\n",
        "X, y = pd.DataFrame(data.data), pd.Series(data.target)\n",
        "\n",
        "# Split dataset\n",
        "X_train, X_test, y_train, y_test = train_test_split(X, y, test_size=0.2, random_state=42)\n",
        "\n",
        "# Train SVM Classifier\n",
        "model = SVC()\n",
        "model.fit(X_train, y_train)\n",
        "\n",
        "# Predict and compute confusion matrix\n",
        "y_pred = model.predict(X_test)\n",
        "cm = confusion_matrix(y_test, y_pred)\n",
        "\n",
        "# Plot the confusion matrix\n",
        "plt.figure(figsize=(5, 4))\n",
        "sns.heatmap(cm, annot=True, fmt=\"d\", cmap=\"Blues\")\n",
        "plt.xlabel(\"Predicted Label\")\n",
        "plt.ylabel(\"True Label\")\n",
        "plt.title(\"Confusion Matrix - SVM Classifier\")\n",
        "plt.show()\n"
      ],
      "metadata": {
        "colab": {
          "base_uri": "https://localhost:8080/",
          "height": 410
        },
        "id": "bVdYxyyvZiGe",
        "outputId": "5aa6bdfa-cd7c-459d-a351-56f01b6db0ac"
      },
      "execution_count": 24,
      "outputs": [
        {
          "output_type": "display_data",
          "data": {
            "text/plain": [
              "<Figure size 500x400 with 2 Axes>"
            ],
            "image/png": "[encoded data removed]"
          },
          "metadata": {}
        }
      ]
    },
    {
      "cell_type": "markdown",
      "source": [
        "44. Write a Python program to train an SVM Regressor (SVR) and evaluate its performance using Mean Absolute Error (MAE) instead of MSE."
      ],
      "metadata": {
        "id": "TmgJq0aQZlrc"
      }
    },
    {
      "cell_type": "code",
      "source": [
        "import pandas as pd\n",
        "from sklearn.model_selection import train_test_split\n",
        "from sklearn.svm import SVR\n",
        "from sklearn.metrics import mean_absolute_error\n",
        "from sklearn.datasets import fetch_california_housing\n",
        "\n",
        "# Load dataset\n",
        "data = fetch_california_housing()\n",
        "X, y = pd.DataFrame(data.data, columns=data.feature_names), pd.Series(data.target)\n",
        "\n",
        "# Split dataset\n",
        "X_train, X_test, y_train, y_test = train_test_split(X, y, test_size=0.2, random_state=42)\n",
        "\n",
        "# Train Support Vector Regressor\n",
        "model = SVR(kernel=\"rbf\")\n",
        "model.fit(X_train, y_train)\n",
        "\n",
        "# Predict and evaluate using MAE\n",
        "y_pred = model.predict(X_test)\n",
        "print(\"Mean Absolute Error (MAE):\", mean_absolute_error(y_test, y_pred))\n"
      ],
      "metadata": {
        "colab": {
          "base_uri": "https://localhost:8080/"
        },
        "id": "T8eAgy1JZn99",
        "outputId": "7dde3d0a-24df-4413-c5bc-a00ab1d04aac"
      },
      "execution_count": 25,
      "outputs": [
        {
          "output_type": "stream",
          "name": "stdout",
          "text": [
            "Mean Absolute Error (MAE): 0.8599506583445761\n"
          ]
        }
      ]
    },
    {
      "cell_type": "markdown",
      "source": [
        "45. Write a Python program to train a Naïve Bayes classifier and evaluate its performance using the ROC-AUC score."
      ],
      "metadata": {
        "id": "JEHzIbpWZq9_"
      }
    },
    {
      "cell_type": "code",
      "source": [
        "import pandas as pd\n",
        "from sklearn.model_selection import train_test_split\n",
        "from sklearn.naive_bayes import GaussianNB\n",
        "from sklearn.metrics import roc_auc_score\n",
        "from sklearn.datasets import load_breast_cancer\n",
        "\n",
        "# Load dataset\n",
        "data = load_breast_cancer()\n",
        "X, y = pd.DataFrame(data.data), pd.Series(data.target)\n",
        "\n",
        "# Split dataset\n",
        "X_train, X_test, y_train, y_test = train_test_split(X, y, test_size=0.2, random_state=42)\n",
        "\n",
        "# Train Naïve Bayes model\n",
        "model = GaussianNB()\n",
        "model.fit(X_train, y_train)\n",
        "\n",
        "# Predict probabilities and evaluate ROC-AUC score\n",
        "y_prob = model.predict_proba(X_test)[:, 1]  # Get probability of positive class\n",
        "print(\"ROC-AUC Score:\", roc_auc_score(y_test, y_prob))\n"
      ],
      "metadata": {
        "colab": {
          "base_uri": "https://localhost:8080/"
        },
        "id": "gL7ZYtbzZvuY",
        "outputId": "55167ee1-693f-47ec-a1d9-c7bb3210af1f"
      },
      "execution_count": 26,
      "outputs": [
        {
          "output_type": "stream",
          "name": "stdout",
          "text": [
            "ROC-AUC Score: 0.9983622666229938\n"
          ]
        }
      ]
    },
    {
      "cell_type": "markdown",
      "source": [
        "46. Write a Python program to train an SVM Classifier and visualize the Precision-Recall Curve."
      ],
      "metadata": {
        "id": "vsStMnOEZwj6"
      }
    },
    {
      "cell_type": "code",
      "source": [
        "import pandas as pd\n",
        "import matplotlib.pyplot as plt\n",
        "from sklearn.model_selection import train_test_split\n",
        "from sklearn.svm import SVC\n",
        "from sklearn.metrics import precision_recall_curve\n",
        "from sklearn.datasets import load_breast_cancer\n",
        "\n",
        "# Load dataset\n",
        "data = load_breast_cancer()\n",
        "X, y = pd.DataFrame(data.data), pd.Series(data.target)\n",
        "\n",
        "# Split dataset\n",
        "X_train, X_test, y_train, y_test = train_test_split(X, y, test_size=0.2, random_state=42)\n",
        "\n",
        "# Train SVM Classifier\n",
        "model = SVC(probability=True)\n",
        "model.fit(X_train, y_train)\n",
        "\n",
        "# Predict probabilities and compute Precision-Recall curve\n",
        "y_prob = model.predict_proba(X_test)[:, 1]  # Get probability of positive class\n",
        "precision, recall, _ = precision_recall_curve(y_test, y_prob)\n",
        "\n",
        "# Plot Precision-Recall Curve\n",
        "plt.figure(figsize=(6, 4))\n",
        "plt.plot(recall, precision, marker=\".\")\n",
        "plt.xlabel(\"Recall\")\n",
        "plt.ylabel(\"Precision\")\n",
        "plt.title(\"Precision-Recall Curve - SVM\")\n",
        "plt.show()\n",
        "\n",
        "\n"
      ],
      "metadata": {
        "colab": {
          "base_uri": "https://localhost:8080/",
          "height": 410
        },
        "id": "t8cZtZ6OZy6R",
        "outputId": "dc2caba0-cbbe-460a-fb25-06094bda659a"
      },
      "execution_count": 27,
      "outputs": [
        {
          "output_type": "display_data",
          "data": {
            "text/plain": [
              "<Figure size 600x400 with 1 Axes>"
            ],
            "image/png": "[encoded data removed]"
          },
          "metadata": {}
        }
      ]
    }
  ]
}